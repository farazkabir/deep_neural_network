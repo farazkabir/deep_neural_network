{
  "nbformat": 4,
  "nbformat_minor": 0,
  "metadata": {
    "colab": {
      "name": "Soft Computing_assignment 2_Deep_neural_network.ipynb",
      "provenance": [],
      "collapsed_sections": []
    },
    "kernelspec": {
      "name": "python3",
      "display_name": "Python 3"
    },
    "language_info": {
      "name": "python"
    },
    "accelerator": "GPU"
  },
  "cells": [
    {
      "cell_type": "code",
      "metadata": {
        "colab": {
          "base_uri": "https://localhost:8080/"
        },
        "id": "DDojGN7ZWp7s",
        "outputId": "b60fee97-c81a-42b9-dab8-5693838a1e03"
      },
      "source": [
        "#Download Dataset\n",
        "%%time\n",
        "from google_drive_downloader import GoogleDriveDownloader as gdd\n",
        "drive_id = '10TbLFo2cgcmlNjgQMZeiI_D68StH5gfW'\n",
        "d_path ='/content/dataset_c.zip'\n",
        "\n",
        "gdd.download_file_from_google_drive(file_id=drive_id , dest_path=d_path, unzip = True)\n",
        "\n",
        "drive_id = '1TLiVh2jKUUQZyhudPoEQmTRscQnLxo9g'\n",
        "d_path ='/content/dataset2.zip'\n",
        "\n",
        "gdd.download_file_from_google_drive(file_id=drive_id , dest_path=d_path, unzip = True)\n"
      ],
      "execution_count": null,
      "outputs": [
        {
          "output_type": "stream",
          "name": "stdout",
          "text": [
            "Downloading 10TbLFo2cgcmlNjgQMZeiI_D68StH5gfW into /content/dataset_c.zip... Done.\n",
            "Unzipping...Done.\n",
            "Downloading 1TLiVh2jKUUQZyhudPoEQmTRscQnLxo9g into /content/dataset2.zip... Done.\n",
            "Unzipping...Done.\n",
            "CPU times: user 5.79 s, sys: 2.82 s, total: 8.6 s\n",
            "Wall time: 10.7 s\n"
          ]
        }
      ]
    },
    {
      "cell_type": "code",
      "metadata": {
        "id": "XIMJvQ4RYLLY"
      },
      "source": [
        "import torch\n",
        "import torch.nn as nn\n",
        "import torchvision.transforms as transforms\n",
        "import torchvision.datasets as dsets"
      ],
      "execution_count": null,
      "outputs": []
    },
    {
      "cell_type": "markdown",
      "metadata": {
        "id": "7GtuqwL9FFhS"
      },
      "source": [
        "# **Dataset 1**"
      ]
    },
    {
      "cell_type": "code",
      "metadata": {
        "id": "rHrY052OY2zb"
      },
      "source": [
        "# Hyperparameters for exp 1\n",
        "\n",
        "batch_size = 20\n",
        "num_iters = 20000\n",
        "input_dim = 180*180 # num_features = 32400\n",
        "num_hidden = 200 # num of hidden nodes\n",
        "output_dim = 10\n",
        "\n",
        "learning_rate = 0.01  # More power so we can learn faster! previously it was 0.001\n",
        "\n",
        "# Device\n",
        "device = torch.device(\"cuda:0\" if torch.cuda.is_available() else \"cpu\")"
      ],
      "execution_count": null,
      "outputs": []
    },
    {
      "cell_type": "code",
      "metadata": {
        "colab": {
          "base_uri": "https://localhost:8080/",
          "height": 204
        },
        "id": "XgYeFDf0iw1N",
        "outputId": "e3223a26-a3d2-4da6-84ee-c183683ce9cc"
      },
      "source": [
        "import pandas as pd\n",
        "\n",
        "df = pd.read_csv('/content/training-c.csv')\n",
        "df = df[['filename','digit']]\n",
        "df.head()"
      ],
      "execution_count": null,
      "outputs": [
        {
          "output_type": "execute_result",
          "data": {
            "text/html": [
              "<div>\n",
              "<style scoped>\n",
              "    .dataframe tbody tr th:only-of-type {\n",
              "        vertical-align: middle;\n",
              "    }\n",
              "\n",
              "    .dataframe tbody tr th {\n",
              "        vertical-align: top;\n",
              "    }\n",
              "\n",
              "    .dataframe thead th {\n",
              "        text-align: right;\n",
              "    }\n",
              "</style>\n",
              "<table border=\"1\" class=\"dataframe\">\n",
              "  <thead>\n",
              "    <tr style=\"text-align: right;\">\n",
              "      <th></th>\n",
              "      <th>filename</th>\n",
              "      <th>digit</th>\n",
              "    </tr>\n",
              "  </thead>\n",
              "  <tbody>\n",
              "    <tr>\n",
              "      <th>0</th>\n",
              "      <td>c00000.png</td>\n",
              "      <td>6</td>\n",
              "    </tr>\n",
              "    <tr>\n",
              "      <th>1</th>\n",
              "      <td>c00001.png</td>\n",
              "      <td>1</td>\n",
              "    </tr>\n",
              "    <tr>\n",
              "      <th>2</th>\n",
              "      <td>c00002.png</td>\n",
              "      <td>3</td>\n",
              "    </tr>\n",
              "    <tr>\n",
              "      <th>3</th>\n",
              "      <td>c00003.png</td>\n",
              "      <td>2</td>\n",
              "    </tr>\n",
              "    <tr>\n",
              "      <th>4</th>\n",
              "      <td>c00004.png</td>\n",
              "      <td>7</td>\n",
              "    </tr>\n",
              "  </tbody>\n",
              "</table>\n",
              "</div>"
            ],
            "text/plain": [
              "     filename  digit\n",
              "0  c00000.png      6\n",
              "1  c00001.png      1\n",
              "2  c00002.png      3\n",
              "3  c00003.png      2\n",
              "4  c00004.png      7"
            ]
          },
          "metadata": {},
          "execution_count": 4
        }
      ]
    },
    {
      "cell_type": "code",
      "metadata": {
        "colab": {
          "base_uri": "https://localhost:8080/",
          "height": 297
        },
        "id": "r3L7QmrrA9dg",
        "outputId": "22099210-e0b5-42b1-ed54-955e4c5d4c39"
      },
      "source": [
        "df.describe()"
      ],
      "execution_count": null,
      "outputs": [
        {
          "output_type": "execute_result",
          "data": {
            "text/html": [
              "<div>\n",
              "<style scoped>\n",
              "    .dataframe tbody tr th:only-of-type {\n",
              "        vertical-align: middle;\n",
              "    }\n",
              "\n",
              "    .dataframe tbody tr th {\n",
              "        vertical-align: top;\n",
              "    }\n",
              "\n",
              "    .dataframe thead th {\n",
              "        text-align: right;\n",
              "    }\n",
              "</style>\n",
              "<table border=\"1\" class=\"dataframe\">\n",
              "  <thead>\n",
              "    <tr style=\"text-align: right;\">\n",
              "      <th></th>\n",
              "      <th>digit</th>\n",
              "    </tr>\n",
              "  </thead>\n",
              "  <tbody>\n",
              "    <tr>\n",
              "      <th>count</th>\n",
              "      <td>24298.000000</td>\n",
              "    </tr>\n",
              "    <tr>\n",
              "      <th>mean</th>\n",
              "      <td>4.494485</td>\n",
              "    </tr>\n",
              "    <tr>\n",
              "      <th>std</th>\n",
              "      <td>2.866339</td>\n",
              "    </tr>\n",
              "    <tr>\n",
              "      <th>min</th>\n",
              "      <td>0.000000</td>\n",
              "    </tr>\n",
              "    <tr>\n",
              "      <th>25%</th>\n",
              "      <td>2.000000</td>\n",
              "    </tr>\n",
              "    <tr>\n",
              "      <th>50%</th>\n",
              "      <td>4.000000</td>\n",
              "    </tr>\n",
              "    <tr>\n",
              "      <th>75%</th>\n",
              "      <td>7.000000</td>\n",
              "    </tr>\n",
              "    <tr>\n",
              "      <th>max</th>\n",
              "      <td>9.000000</td>\n",
              "    </tr>\n",
              "  </tbody>\n",
              "</table>\n",
              "</div>"
            ],
            "text/plain": [
              "              digit\n",
              "count  24298.000000\n",
              "mean       4.494485\n",
              "std        2.866339\n",
              "min        0.000000\n",
              "25%        2.000000\n",
              "50%        4.000000\n",
              "75%        7.000000\n",
              "max        9.000000"
            ]
          },
          "metadata": {},
          "execution_count": 5
        }
      ]
    },
    {
      "cell_type": "code",
      "metadata": {
        "id": "H_4foakNjG99"
      },
      "source": [
        "#Save in class wise folder\n",
        "import os\n",
        "path = '/content/training-c/'\n",
        "for index,row in df.iterrows():\n",
        "  new_path=path+str(row['digit'])\n",
        "  if(os.path.isdir(new_path)):\n",
        "    os.rename(path+row['filename'],new_path+'/'+row['filename'])\n",
        "  else:\n",
        "    os.makedirs(new_path )\n",
        "    os.rename(path+row['filename'],new_path+'/'+row['filename'])"
      ],
      "execution_count": null,
      "outputs": []
    },
    {
      "cell_type": "code",
      "metadata": {
        "id": "vtSXz1MIZd-S"
      },
      "source": [
        "'''\n",
        "LOADING DATASET\n",
        "'''\n",
        "transform = transforms.Compose([\n",
        "                                transforms.Grayscale(),                                 \n",
        "                                transforms.ToTensor() \n",
        "                                ])\n",
        " \n",
        "full_dataset = dsets.ImageFolder(root='/content/training-c',transform= transform )\n",
        "\n",
        "torch.manual_seed(0)\n",
        "train_size = int(0.85 * len(full_dataset))\n",
        "test_size = len(full_dataset) - train_size\n",
        "train_dataset, test_dataset = torch.utils.data.random_split(full_dataset, [train_size, test_size])\n",
        "'''\n",
        "MAKING DATASET ITERABLE\n",
        "'''\n",
        "num_epochs = num_iters / (len(train_dataset) / batch_size)\n",
        "num_epochs = int(num_epochs)\n",
        "\n",
        "train_loader = torch.utils.data.DataLoader(dataset=train_dataset, \n",
        "                                           batch_size=batch_size, \n",
        "                                           shuffle=True)   # It's better to shuffle the whole training dataset! \n",
        "\n",
        "test_loader = torch.utils.data.DataLoader(dataset=test_dataset, \n",
        "                                          batch_size=batch_size, \n",
        "                                          shuffle=False)  "
      ],
      "execution_count": null,
      "outputs": []
    },
    {
      "cell_type": "code",
      "metadata": {
        "colab": {
          "base_uri": "https://localhost:8080/"
        },
        "id": "Vuj6VlSn3BX4",
        "outputId": "4a6c50b4-bcaa-487b-bbf7-d5707c841193"
      },
      "source": [
        "print(len(train_dataset))\n",
        "print(len(test_dataset))"
      ],
      "execution_count": null,
      "outputs": [
        {
          "output_type": "stream",
          "name": "stdout",
          "text": [
            "20653\n",
            "3645\n"
          ]
        }
      ]
    },
    {
      "cell_type": "code",
      "metadata": {
        "colab": {
          "base_uri": "https://localhost:8080/"
        },
        "id": "AcQd9Kjm3Gg_",
        "outputId": "4c0a44af-57f4-4724-fcc5-eefd43c28ef3"
      },
      "source": [
        "# One Image Size\n",
        "print(train_dataset[0][0].size())\n",
        "print(train_dataset[0][0].numpy().shape)\n",
        "# First Image Label\n",
        "print(train_dataset[0][1])"
      ],
      "execution_count": null,
      "outputs": [
        {
          "output_type": "stream",
          "name": "stdout",
          "text": [
            "torch.Size([1, 180, 180])\n",
            "(1, 180, 180)\n",
            "4\n"
          ]
        }
      ]
    },
    {
      "cell_type": "code",
      "metadata": {
        "id": "PtGvxK9j3Js2"
      },
      "source": [
        "#model 1\n",
        "class DeepNeuralNetworkModel(nn.Module):\n",
        "    def __init__(self, input_size, num_classes, num_hidden):\n",
        "        super().__init__()\n",
        "        ### 1st hidden layer: 32400 --> 200\n",
        "        self.linear_1 = nn.Linear(input_size, num_hidden)\n",
        "        ### Non-linearity in 1st hidden layer\n",
        "        self.relu_1 = nn.ReLU()\n",
        "\n",
        "        ### 2nd hidden layer: 200 --> 200\n",
        "        self.linear_2 = nn.Linear(num_hidden, num_hidden)\n",
        "        ### Non-linearity in 2nd hidden layer\n",
        "        self.relu_2 = nn.ReLU()\n",
        "\n",
        "        ### 3rd hidden layer: 200 --> 200\n",
        "        self.linear_3 = nn.Linear(num_hidden, num_hidden)\n",
        "        ### Non-linearity in 3rd hidden layer\n",
        "        self.relu_3 = nn.ReLU()\n",
        "\n",
        "        ### 4th hidden layer: 200 --> 200\n",
        "        self.linear_4 = nn.Linear(num_hidden, num_hidden)\n",
        "        ### Non-linearity in 3rd hidden layer\n",
        "        self.relu_4 = nn.ReLU()\n",
        "\n",
        "        ### 5th hidden layer: 200 --> 200\n",
        "        self.linear_5 = nn.Linear(num_hidden, num_hidden)\n",
        "        ### Non-linearity in 3rd hidden layer\n",
        "        self.relu_5 = nn.ReLU()\n",
        "\n",
        "         ### 6th hidden layer: 200 --> 200\n",
        "        self.linear_6 = nn.Linear(num_hidden, num_hidden)\n",
        "        ### Non-linearity in 3rd hidden layer\n",
        "        self.relu_6 = nn.ReLU()\n",
        "\n",
        "        ### Output layer: 200 --> 10\n",
        "        self.linear_out = nn.Linear(num_hidden, num_classes)\n",
        "\n",
        "    def forward(self, x):\n",
        "        ### 1st hidden layer\n",
        "        out  = self.linear_1(x)\n",
        "        ### Non-linearity in 1st hidden layer\n",
        "        out = self.relu_1(out)\n",
        "        \n",
        "        ### 2nd hidden layer\n",
        "        out  = self.linear_2(out)\n",
        "        ### Non-linearity in 2nd hidden layer\n",
        "        out = self.relu_2(out)\n",
        "\n",
        "        ### 3rd hidden layer\n",
        "        out  = self.linear_3(out)\n",
        "        ### Non-linearity in 3rd hidden layer\n",
        "        out = self.relu_3(out)\n",
        "\n",
        "        ### 4th hidden layer\n",
        "        out  = self.linear_4(out)\n",
        "        ### Non-linearity in 3rd hidden layer\n",
        "        out = self.relu_4(out)\n",
        "        \n",
        "        ### 5th hidden layer\n",
        "        out  = self.linear_5(out)\n",
        "        ### Non-linearity in 3rd hidden layer\n",
        "        out = self.relu_5(out)\n",
        "        \n",
        "        ### 6th hidden layer\n",
        "        out  = self.linear_6(out)\n",
        "        ### Non-linearity in 3rd hidden layer\n",
        "        out = self.relu_6(out)\n",
        "        \n",
        "        # Linear layer (output)\n",
        "        probas  = self.linear_out(out)\n",
        "        return probas\n",
        "\n",
        "# INSTANTIATE MODEL CLASS\n",
        "\n"
      ],
      "execution_count": null,
      "outputs": []
    },
    {
      "cell_type": "code",
      "metadata": {
        "id": "YhMK3JwV-eYy",
        "colab": {
          "base_uri": "https://localhost:8080/"
        },
        "outputId": "d9772ad1-8e88-411f-9f02-baf0fd5126e1"
      },
      "source": [
        "model = DeepNeuralNetworkModel(input_size = input_dim,\n",
        "                               num_classes = output_dim,\n",
        "                               num_hidden = num_hidden)\n",
        "# To enable GPU\n",
        "model.to(device)\n",
        "\n",
        "# INSTANTIATE LOSS & OPTIMIZER CLASS\n",
        "criterion = nn.CrossEntropyLoss()\n",
        "optimizer = torch.optim.SGD(model.parameters(), lr=learning_rate)\n",
        "\n",
        "iter = 0\n",
        "loss_list1 = []\n",
        "accuracy_list1 = []\n",
        "for epoch in range(num_epochs):\n",
        "    for i, (images, labels) in enumerate(train_loader):\n",
        "\n",
        "        images = images.view(-1, 180*180).to(device)\n",
        "        labels = labels.to(device)\n",
        "\n",
        "        # Clear gradients w.r.t. parameters\n",
        "        optimizer.zero_grad()\n",
        "\n",
        "        # Forward pass to get output/logits\n",
        "        outputs = model(images) \n",
        "\n",
        "        # Calculate Loss: softmax --> cross entropy loss\n",
        "        loss = criterion(outputs, labels)\n",
        "\n",
        "        # Getting gradients w.r.t. parameters\n",
        "        loss.backward()\n",
        "\n",
        "        # Updating parameters\n",
        "        optimizer.step()\n",
        "\n",
        "        iter += 1\n",
        "\n",
        "        if iter % 500 == 0:\n",
        "            # Calculate Accuracy         \n",
        "            correct = 0\n",
        "            total = 0\n",
        "            \n",
        "            # Iterate through test dataset\n",
        "            for images, labels in test_loader:\n",
        "               \n",
        "                images = images.view(-1, 180*180).to(device)\n",
        "\n",
        "                # Forward pass only to get logits/output\n",
        "                outputs = model(images)\n",
        "\n",
        "                # Get predictions from the maximum value\n",
        "                _, predicted = torch.max(outputs, 1)\n",
        "\n",
        "                # Total number of labels\n",
        "                total += labels.size(0)\n",
        "\n",
        "\n",
        "                # Total correct predictions\n",
        "                if torch.cuda.is_available():\n",
        "                    correct += (predicted.cpu() == labels.cpu()).sum() \n",
        "                else:\n",
        "                    correct += (predicted == labels).sum()\n",
        "\n",
        "            accuracy = 100 * correct.item() / total\n",
        "            loss_list1.append(loss.item())\n",
        "            accuracy_list1.append(accuracy)\n",
        "\n",
        "\n",
        "            # Print Loss\n",
        "            print('Iteration: {}. Loss: {}. Accuracy: {}'.format(iter, loss.item(), accuracy))"
      ],
      "execution_count": null,
      "outputs": [
        {
          "output_type": "stream",
          "name": "stdout",
          "text": [
            "Iteration: 500. Loss: 2.3036367893218994. Accuracy: 10.397805212620028\n",
            "Iteration: 1000. Loss: 2.305086851119995. Accuracy: 9.327846364883403\n",
            "Iteration: 1500. Loss: 2.307398557662964. Accuracy: 10.397805212620028\n",
            "Iteration: 2000. Loss: 2.3028433322906494. Accuracy: 9.437585733882031\n",
            "Iteration: 2500. Loss: 2.308825969696045. Accuracy: 10.589849108367627\n",
            "Iteration: 3000. Loss: 2.308546543121338. Accuracy: 10.397805212620028\n",
            "Iteration: 3500. Loss: 2.3051998615264893. Accuracy: 9.327846364883403\n",
            "Iteration: 4000. Loss: 2.300776958465576. Accuracy: 9.9039780521262\n",
            "Iteration: 4500. Loss: 2.3199970722198486. Accuracy: 9.437585733882031\n",
            "Iteration: 5000. Loss: 2.3035740852355957. Accuracy: 9.327846364883403\n",
            "Iteration: 5500. Loss: 2.3031818866729736. Accuracy: 10.534979423868313\n",
            "Iteration: 6000. Loss: 2.305166244506836. Accuracy: 10.013717421124829\n",
            "Iteration: 6500. Loss: 2.3003697395324707. Accuracy: 14.046639231824416\n",
            "Iteration: 7000. Loss: 2.309140682220459. Accuracy: 9.437585733882031\n",
            "Iteration: 7500. Loss: 2.300992727279663. Accuracy: 13.196159122085048\n",
            "Iteration: 8000. Loss: 2.2924184799194336. Accuracy: 9.355281207133059\n",
            "Iteration: 8500. Loss: 2.3089451789855957. Accuracy: 13.443072702331962\n",
            "Iteration: 9000. Loss: 2.3039259910583496. Accuracy: 9.62962962962963\n",
            "Iteration: 9500. Loss: 2.3079707622528076. Accuracy: 10.397805212620028\n",
            "Iteration: 10000. Loss: 2.3030290603637695. Accuracy: 10.644718792866941\n",
            "Iteration: 10500. Loss: 2.3002171516418457. Accuracy: 12.071330589849108\n",
            "Iteration: 11000. Loss: 2.30256986618042. Accuracy: 9.16323731138546\n",
            "Iteration: 11500. Loss: 2.293269634246826. Accuracy: 9.574759945130316\n",
            "Iteration: 12000. Loss: 2.3042263984680176. Accuracy: 18.079561042524006\n",
            "Iteration: 12500. Loss: 2.3358705043792725. Accuracy: 16.07681755829904\n",
            "Iteration: 13000. Loss: 2.310462236404419. Accuracy: 16.570644718792867\n",
            "Iteration: 13500. Loss: 2.2847492694854736. Accuracy: 9.602194787379972\n",
            "Iteration: 14000. Loss: 2.3142588138580322. Accuracy: 9.272976680384089\n",
            "Iteration: 14500. Loss: 2.2102932929992676. Accuracy: 9.190672153635116\n",
            "Iteration: 15000. Loss: 2.2181553840637207. Accuracy: 16.707818930041153\n",
            "Iteration: 15500. Loss: 2.3267884254455566. Accuracy: 12.921810699588477\n",
            "Iteration: 16000. Loss: 2.241245985031128. Accuracy: 17.229080932784637\n",
            "Iteration: 16500. Loss: 2.4139533042907715. Accuracy: 10.0960219478738\n",
            "Iteration: 17000. Loss: 2.337996006011963. Accuracy: 9.410150891632373\n",
            "Iteration: 17500. Loss: 2.1475303173065186. Accuracy: 16.378600823045268\n",
            "Iteration: 18000. Loss: 2.228285312652588. Accuracy: 19.478737997256516\n",
            "Iteration: 18500. Loss: 2.165297269821167. Accuracy: 18.353909465020575\n",
            "Iteration: 19000. Loss: 2.1916332244873047. Accuracy: 14.567901234567902\n",
            "Iteration: 19500. Loss: 2.1941585540771484. Accuracy: 14.348422496570645\n"
          ]
        }
      ]
    },
    {
      "cell_type": "code",
      "metadata": {
        "colab": {
          "base_uri": "https://localhost:8080/"
        },
        "id": "3J2py3SaEDmm",
        "outputId": "92308a00-ab2c-475a-feab-fc6a16700fae"
      },
      "source": [
        "accuracy_list1"
      ],
      "execution_count": null,
      "outputs": [
        {
          "output_type": "execute_result",
          "data": {
            "text/plain": [
              "[10.397805212620028,\n",
              " 9.327846364883403,\n",
              " 10.397805212620028,\n",
              " 9.437585733882031,\n",
              " 10.589849108367627,\n",
              " 10.397805212620028,\n",
              " 9.327846364883403,\n",
              " 9.9039780521262,\n",
              " 9.437585733882031,\n",
              " 9.327846364883403,\n",
              " 10.534979423868313,\n",
              " 10.013717421124829,\n",
              " 14.046639231824416,\n",
              " 9.437585733882031,\n",
              " 13.196159122085048,\n",
              " 9.355281207133059,\n",
              " 13.443072702331962,\n",
              " 9.62962962962963,\n",
              " 10.397805212620028,\n",
              " 10.644718792866941,\n",
              " 12.071330589849108,\n",
              " 9.16323731138546,\n",
              " 9.574759945130316,\n",
              " 18.079561042524006,\n",
              " 16.07681755829904,\n",
              " 16.570644718792867,\n",
              " 9.602194787379972,\n",
              " 9.272976680384089,\n",
              " 9.190672153635116,\n",
              " 16.707818930041153,\n",
              " 12.921810699588477,\n",
              " 17.229080932784637,\n",
              " 10.0960219478738,\n",
              " 9.410150891632373,\n",
              " 16.378600823045268,\n",
              " 19.478737997256516,\n",
              " 18.353909465020575,\n",
              " 14.567901234567902,\n",
              " 14.348422496570645]"
            ]
          },
          "metadata": {},
          "execution_count": 14
        }
      ]
    },
    {
      "cell_type": "code",
      "metadata": {
        "colab": {
          "base_uri": "https://localhost:8080/",
          "height": 295
        },
        "id": "sz2Erhxw4ze1",
        "outputId": "39875fff-c0ac-410b-c1e3-1cfdc0568a9f"
      },
      "source": [
        "import matplotlib.pyplot as plt\n",
        "itr = [(loss_list1.index(i)+1)*500 for i in loss_list1]\n",
        "\n",
        "plt.plot(itr,loss_list1)\n",
        "plt.title('Iteration vs Loss')\n",
        "plt.xlabel('Iterations')\n",
        "plt.ylabel('Loss')\n",
        "plt.legend('Loss Curve',loc='best')\n",
        "plt.show()"
      ],
      "execution_count": null,
      "outputs": [
        {
          "output_type": "display_data",
          "data": {
            "image/png": "[encoded data removed]",
            "text/plain": [
              "<Figure size 432x288 with 1 Axes>"
            ]
          },
          "metadata": {
            "needs_background": "light"
          }
        }
      ]
    },
    {
      "cell_type": "code",
      "metadata": {
        "id": "SrZtlNGQFfVn"
      },
      "source": [
        "# Hyperparameters for exp 2\n",
        "\n",
        "batch_size = 100\n",
        "num_iters = 100000\n",
        "input_dim = 64*64 # num_features = 784\n",
        "num_hidden = 100 # num of hidden nodes\n",
        "output_dim = 10\n",
        "\n",
        "learning_rate = 0.01  # More power so we can learn faster! previously it was 0.001\n",
        "\n",
        "# Device\n",
        "device = torch.device(\"cuda:0\" if torch.cuda.is_available() else \"cpu\")"
      ],
      "execution_count": null,
      "outputs": []
    },
    {
      "cell_type": "code",
      "metadata": {
        "id": "7LlaWM7LF0Aq"
      },
      "source": [
        "'''\n",
        "LOADING DATASET\n",
        "'''\n",
        "transform = transforms.Compose([\n",
        "                                transforms.Grayscale(),                                 \n",
        "                                transforms.Resize((64,64)),\n",
        "                              #  transforms.CenterCrop((64,64)), \n",
        "                                transforms.ToTensor(),             \n",
        "                              ])\n",
        " \n",
        "full_dataset = dsets.ImageFolder(root='/content/training-c',transform= transform )\n",
        "\n",
        "torch.manual_seed(0)\n",
        "train_size = int(0.85 * len(full_dataset))\n",
        "test_size = len(full_dataset) - train_size\n",
        "train_dataset, test_dataset = torch.utils.data.random_split(full_dataset, [train_size, test_size])\n",
        "'''\n",
        "MAKING DATASET ITERABLE\n",
        "'''\n",
        "num_epochs = num_iters / (len(train_dataset) / batch_size)\n",
        "num_epochs = int(num_epochs)\n",
        "\n",
        "train_loader = torch.utils.data.DataLoader(dataset=train_dataset, \n",
        "                                           batch_size=batch_size, \n",
        "                                           shuffle=True)   # It's better to shuffle the whole training dataset! \n",
        "\n",
        "test_loader = torch.utils.data.DataLoader(dataset=test_dataset, \n",
        "                                          batch_size=batch_size, \n",
        "                                          shuffle=False)  "
      ],
      "execution_count": null,
      "outputs": []
    },
    {
      "cell_type": "code",
      "metadata": {
        "id": "99AxvTalFduv"
      },
      "source": [
        "#model 2\n",
        "class DeepNeuralNetworkModel2(nn.Module):\n",
        "    def __init__(self, input_size, num_classes, num_hidden):\n",
        "        super().__init__()\n",
        "        ### 1st hidden layer: 4096 --> 784\n",
        "        self.linear_1 = nn.Linear(input_size, 784)\n",
        "        ### Non-linearity in 1st hidden layer\n",
        "        self.relu_1 = nn.ReLU()\n",
        "\n",
        "        ### 2nd hidden layer: 784 --> 392\n",
        "        self.linear_2 = nn.Linear(784, 392)\n",
        "        ### Non-linearity in 2nd hidden layer\n",
        "        self.relu_2 = nn.ReLU()\n",
        "\n",
        "        ### 3rd hidden layer: 392 --> 196\n",
        "        self.linear_3 = nn.Linear(392, 196)\n",
        "        ### Non-linearity in 3rd hidden layer\n",
        "        self.relu_3 = nn.ReLU()\n",
        "\n",
        "       \n",
        "\n",
        "        ### Output layer: 196 --> 10\n",
        "        self.linear_out = nn.Linear(196, num_classes)\n",
        "\n",
        "    def forward(self, x):\n",
        "        ### 1st hidden layer\n",
        "        out  = self.linear_1(x)\n",
        "        ### Non-linearity in 1st hidden layer\n",
        "        out = self.relu_1(out)\n",
        "        \n",
        "        ### 2nd hidden layer\n",
        "        out  = self.linear_2(out)\n",
        "        ### Non-linearity in 2nd hidden layer\n",
        "        out = self.relu_2(out)\n",
        "\n",
        "        ### 3rd hidden layer\n",
        "        out  = self.linear_3(out)\n",
        "        ### Non-linearity in 3rd hidden layer\n",
        "        out = self.relu_3(out)\n",
        "\n",
        "        \n",
        "        # Linear layer (output)\n",
        "        probas  = self.linear_out(out)\n",
        "        return probas\n",
        "\n",
        "# INSTANTIATE MODEL CLASS\n",
        "\n"
      ],
      "execution_count": null,
      "outputs": []
    },
    {
      "cell_type": "code",
      "metadata": {
        "colab": {
          "base_uri": "https://localhost:8080/"
        },
        "id": "ad15Ijz4F4Zm",
        "outputId": "2d5a61fd-14b3-4344-fe99-22363a840784"
      },
      "source": [
        "model = DeepNeuralNetworkModel2(input_size = input_dim,\n",
        "                               num_classes = output_dim,\n",
        "                               num_hidden = num_hidden)\n",
        "# To enable GPU\n",
        "model.to(device)\n",
        "\n",
        "# INSTANTIATE LOSS & OPTIMIZER CLASS\n",
        "criterion = nn.CrossEntropyLoss()\n",
        "optimizer = torch.optim.SGD(model.parameters(), lr=learning_rate)\n",
        "\n",
        "\n",
        "iter = 0\n",
        "#loadedModel = torch.load('/content/drive/MyDrive/Soft_Computing/Assignment2/exp1_model2-iteration-100188.pt')\n",
        "#iter = loadedModel['iter']\n",
        "#epoch=  loadedModel['epoch']\n",
        "#model.load_state_dict(loadedModel['model_state'])\n",
        "#model.eval()\n",
        "\n",
        "loss_list1_2 = []\n",
        "accuracy_list1_2 = []\n",
        "for epoch in range(num_epochs):\n",
        "    for i, (images, labels) in enumerate(train_loader):\n",
        "\n",
        "        images = images.view(-1, 64*64).to(device)\n",
        "        labels = labels.to(device)\n",
        "\n",
        "        # Clear gradients w.r.t. parameters\n",
        "        optimizer.zero_grad()\n",
        "\n",
        "        # Forward pass to get output/logits\n",
        "        outputs = model(images) \n",
        "\n",
        "        # Calculate Loss: softmax --> cross entropy loss\n",
        "        loss = criterion(outputs, labels)\n",
        "\n",
        "        # Getting gradients w.r.t. parameters\n",
        "        loss.backward()\n",
        "\n",
        "        # Updating parameters\n",
        "        optimizer.step()\n",
        "\n",
        "        iter += 1\n",
        "\n",
        "        if iter % 500 == 0:\n",
        "            # Calculate Accuracy         \n",
        "            correct = 0\n",
        "            total = 0\n",
        "            # Iterate through test dataset\n",
        "            for images, labels in test_loader:\n",
        "               \n",
        "                images = images.view(-1, 64*64).to(device)\n",
        "\n",
        "                # Forward pass only to get logits/output\n",
        "                outputs = model(images)\n",
        "\n",
        "                # Get predictions from the maximum value\n",
        "                _, predicted = torch.max(outputs, 1)\n",
        "\n",
        "                # Total number of labels\n",
        "                total += labels.size(0)\n",
        "\n",
        "\n",
        "                # Total correct predictions\n",
        "                if torch.cuda.is_available():\n",
        "                    correct += (predicted.cpu() == labels.cpu()).sum() \n",
        "                else:\n",
        "                    correct += (predicted == labels).sum()\n",
        "\n",
        "            \n",
        "            accuracy = 100 * correct.item() / total\n",
        "            loss_list1_2.append(loss.item())\n",
        "            accuracy_list1_2.append(accuracy)\n",
        "\n",
        "            # Print Loss\n",
        "            print('Iteration: {}. Loss: {}. Accuracy: {}'.format(iter, loss.item(), accuracy))"
      ],
      "execution_count": null,
      "outputs": [
        {
          "output_type": "stream",
          "name": "stdout",
          "text": [
            "Iteration: 100500. Loss: 0.1344817727804184. Accuracy: 84.00548696844993\n",
            "Iteration: 101000. Loss: 0.2472233772277832. Accuracy: 83.84087791495199\n",
            "Iteration: 101500. Loss: 0.13270047307014465. Accuracy: 84.2249657064472\n",
            "Iteration: 102000. Loss: 0.1188058853149414. Accuracy: 84.11522633744856\n",
            "Iteration: 102500. Loss: 0.2999555170536041. Accuracy: 84.0877914951989\n",
            "Iteration: 103000. Loss: 0.15855102241039276. Accuracy: 83.95061728395062\n",
            "Iteration: 103500. Loss: 0.2795233130455017. Accuracy: 83.97805212620027\n",
            "Iteration: 104000. Loss: 0.22572824358940125. Accuracy: 84.0877914951989\n",
            "Iteration: 104500. Loss: 0.24553824961185455. Accuracy: 84.00548696844993\n",
            "Iteration: 105000. Loss: 0.1333681046962738. Accuracy: 84.00548696844993\n",
            "Iteration: 105500. Loss: 0.14624245464801788. Accuracy: 84.25240054869684\n",
            "Iteration: 106000. Loss: 0.23454366624355316. Accuracy: 84.2249657064472\n",
            "Iteration: 106500. Loss: 0.21846126019954681. Accuracy: 84.19753086419753\n",
            "Iteration: 107000. Loss: 0.11050122231245041. Accuracy: 84.0877914951989\n",
            "Iteration: 107500. Loss: 0.11191310733556747. Accuracy: 84.14266117969822\n",
            "Iteration: 108000. Loss: 0.14844784140586853. Accuracy: 83.8957475994513\n",
            "Iteration: 108500. Loss: 0.12538965046405792. Accuracy: 83.95061728395062\n",
            "Iteration: 109000. Loss: 0.1442355215549469. Accuracy: 84.33470507544581\n",
            "Iteration: 109500. Loss: 0.09424848854541779. Accuracy: 84.33470507544581\n",
            "Iteration: 110000. Loss: 0.1496867686510086. Accuracy: 83.75857338820302\n",
            "Iteration: 110500. Loss: 0.18943724036216736. Accuracy: 84.2249657064472\n",
            "Iteration: 111000. Loss: 0.1606571525335312. Accuracy: 83.86831275720165\n",
            "Iteration: 111500. Loss: 0.15817011892795563. Accuracy: 84.17009602194787\n",
            "Iteration: 112000. Loss: 0.21046987175941467. Accuracy: 83.78600823045268\n",
            "Iteration: 112500. Loss: 0.19203950464725494. Accuracy: 84.38957475994513\n",
            "Iteration: 113000. Loss: 0.18390408158302307. Accuracy: 84.36213991769547\n",
            "Iteration: 113500. Loss: 0.14318686723709106. Accuracy: 84.19753086419753\n",
            "Iteration: 114000. Loss: 0.09966064244508743. Accuracy: 84.17009602194787\n",
            "Iteration: 114500. Loss: 0.17777615785598755. Accuracy: 84.03292181069959\n",
            "Iteration: 115000. Loss: 0.1493503898382187. Accuracy: 83.8957475994513\n",
            "Iteration: 115500. Loss: 0.10200142115354538. Accuracy: 84.14266117969822\n"
          ]
        }
      ]
    },
    {
      "cell_type": "code",
      "metadata": {
        "id": "XmTQppPaHw6q",
        "colab": {
          "base_uri": "https://localhost:8080/",
          "height": 295
        },
        "outputId": "ed138c78-b1d5-4088-82a6-6ee34328962a"
      },
      "source": [
        "import matplotlib.pyplot as plt\n",
        "itr = [(loss_list1_2.index(i)+1)*500 for i in loss_list1_2]\n",
        "\n",
        "plt.plot(itr,loss_list1_2)\n",
        "plt.title('Iteration vs Loss')\n",
        "plt.xlabel('Iterations')\n",
        "plt.ylabel('Loss')\n",
        "plt.legend('Loss Curve',loc='best')\n",
        "plt.show()"
      ],
      "execution_count": null,
      "outputs": [
        {
          "output_type": "display_data",
          "data": {
            "image/png": "[encoded data removed]",
            "text/plain": [
              "<Figure size 432x288 with 1 Axes>"
            ]
          },
          "metadata": {
            "needs_background": "light"
          }
        }
      ]
    },
    {
      "cell_type": "code",
      "metadata": {
        "colab": {
          "base_uri": "https://localhost:8080/"
        },
        "id": "8tJtVFfk1eSm",
        "outputId": "bff2ade5-f72c-41a5-f133-39ac573bb661"
      },
      "source": [
        "from google.colab import drive\n",
        "drive.mount('./drive')"
      ],
      "execution_count": null,
      "outputs": [
        {
          "output_type": "stream",
          "name": "stdout",
          "text": [
            "Mounted at ./drive\n"
          ]
        }
      ]
    },
    {
      "cell_type": "code",
      "metadata": {
        "id": "HlgIZH331eqd"
      },
      "source": [
        "dest = '/content/drive/MyDrive/Soft_Computing/Assignment2/'"
      ],
      "execution_count": null,
      "outputs": []
    },
    {
      "cell_type": "code",
      "metadata": {
        "id": "zypjjZnM2ZwO"
      },
      "source": [
        "with open(dest+\"model1_exp1.txt\", \"w\") as output:\n",
        "    output.write(str(loss_list1))\n",
        "    output.write('\\n')\n",
        "    output.write(str(accuracy_list1))"
      ],
      "execution_count": null,
      "outputs": []
    },
    {
      "cell_type": "code",
      "metadata": {
        "id": "SlVdfrV11gbt"
      },
      "source": [
        "path=dest\n",
        "path += f\"exp1_model2-iteration-{iter}.pt\"\n",
        "save_obj = {\n",
        "\n",
        "       'epoch': epoch,\n",
        "       'iter': iter,\n",
        "       'model_state': model.state_dict(),\n",
        "       'optimizer_state': optimizer.state_dict(),       \n",
        "       }\n",
        "torch.save(model.state_dict(), path)\n",
        "\n",
        "\n"
      ],
      "execution_count": null,
      "outputs": []
    },
    {
      "cell_type": "code",
      "metadata": {
        "id": "2yzdXvNS9UDE"
      },
      "source": [
        "with open(dest+\"model2_exp1.txt\", \"w\") as output:\n",
        "    output.write(str(loss_list1_2))\n",
        "    output.write('\\n')\n",
        "    output.write(str(accuracy_list1_2))"
      ],
      "execution_count": null,
      "outputs": []
    },
    {
      "cell_type": "markdown",
      "metadata": {
        "id": "zHX1__bkF1PV"
      },
      "source": [
        "# **Dataset 2**"
      ]
    },
    {
      "cell_type": "code",
      "metadata": {
        "colab": {
          "base_uri": "https://localhost:8080/"
        },
        "id": "yihjRzt7w0Aj",
        "outputId": "83c2c928-704f-4d34-f993-3c94810ff121"
      },
      "source": [
        "!pip install idx2numpy"
      ],
      "execution_count": null,
      "outputs": [
        {
          "output_type": "stream",
          "name": "stdout",
          "text": [
            "Collecting idx2numpy\n",
            "  Downloading idx2numpy-1.2.3.tar.gz (6.8 kB)\n",
            "Requirement already satisfied: numpy in /usr/local/lib/python3.7/dist-packages (from idx2numpy) (1.19.5)\n",
            "Requirement already satisfied: six in /usr/local/lib/python3.7/dist-packages (from idx2numpy) (1.15.0)\n",
            "Building wheels for collected packages: idx2numpy\n",
            "  Building wheel for idx2numpy (setup.py) ... \u001b[?25l\u001b[?25hdone\n",
            "  Created wheel for idx2numpy: filename=idx2numpy-1.2.3-py3-none-any.whl size=7919 sha256=873e0742c8e86f91fa4502ef345d538862942925cb0d258d3879dd3a92a3557b\n",
            "  Stored in directory: /root/.cache/pip/wheels/1a/ce/ad/d5e95a35cfe34149aade5e500f2edd535c0566d79e9a8e1d8a\n",
            "Successfully built idx2numpy\n",
            "Installing collected packages: idx2numpy\n",
            "Successfully installed idx2numpy-1.2.3\n"
          ]
        }
      ]
    },
    {
      "cell_type": "code",
      "metadata": {
        "colab": {
          "base_uri": "https://localhost:8080/"
        },
        "id": "0m2SoneFwIfp",
        "outputId": "27ddd3ad-88be-46b1-ec59-d688fb6bdd21"
      },
      "source": [
        "#dataset preparation\n",
        "#train dataset\n",
        "import numpy as np\n",
        "import idx2numpy\n",
        "import matplotlib.pyplot as plt\n",
        "from PIL import Image\n",
        "    \n",
        "imagefile = '/content/Dataset_2/train-images-idx3-ubyte'\n",
        "imagearray = idx2numpy.convert_from_file(imagefile)\n",
        "print(imagearray[0].shape)\n",
        "labels_path = '/content/Dataset_2/train-labels-idx1-ubyte'\n",
        "labels = idx2numpy.convert_from_file(labels_path)\n",
        "labels[0]\n",
        "\n",
        "train_d2='/content/Dataset_2/train'\n",
        "if(not os.path.isdir(train_d2)):\n",
        "  os.makedirs(train_d2)\n",
        "\n",
        "\n",
        "for i in range(len(labels)):\n",
        "  pixels = np.array(imagearray[i], dtype='uint8')\n",
        "\n",
        "    # Reshape the array into 28 x 28 array (2-dimensional array)\n",
        " # pixels = pixels.reshape((28, 28))\n",
        "  if(not os.path.isdir(train_d2+'/'+str(labels[i]))):\n",
        "      os.makedirs(train_d2+'/'+str(labels[i]))\n",
        "\n",
        "  n = len(os.listdir(train_d2+'/'+str(labels[i])))+1\n",
        "  \n",
        "  im = Image.fromarray(pixels)\n",
        "  im.save(train_d2+'/'+str(labels[i])+'/'+str(n)+'.png')\n",
        "\n",
        "  \n",
        "  \n",
        "\n",
        "#plt.imshow(imagearray[4], cmap=plt.cm.binary)"
      ],
      "execution_count": null,
      "outputs": [
        {
          "output_type": "stream",
          "name": "stdout",
          "text": [
            "(28, 28)\n"
          ]
        }
      ]
    },
    {
      "cell_type": "code",
      "metadata": {
        "colab": {
          "base_uri": "https://localhost:8080/"
        },
        "id": "JXixRP1RICMB",
        "outputId": "b11807c8-dc77-43c7-f6e3-3749033f350f"
      },
      "source": [
        "#test dataset 2\n",
        "import numpy as np\n",
        "import idx2numpy\n",
        "import matplotlib.pyplot as plt\n",
        "from PIL import Image\n",
        "    \n",
        "imagefile = '/content/Dataset_2/t10k-images-idx3-ubyte'\n",
        "imagearray = idx2numpy.convert_from_file(imagefile)\n",
        "print(imagearray[0].shape)\n",
        "labels_path = '/content/Dataset_2/t10k-labels-idx1-ubyte'\n",
        "labels = idx2numpy.convert_from_file(labels_path)\n",
        "labels[0]\n",
        "\n",
        "ds2='/content/Dataset_2/test'\n",
        "if(not os.path.isdir(ds2)):\n",
        "  os.makedirs(ds2)\n",
        "\n",
        "\n",
        "for i in range(len(labels)):\n",
        "  pixels = np.array(imagearray[i], dtype='uint8')\n",
        "\n",
        "    # Reshape the array into 28 x 28 array (2-dimensional array)\n",
        " # pixels = pixels.reshape((28, 28))\n",
        "  if(not os.path.isdir(ds2+'/'+str(labels[i]))):\n",
        "      os.makedirs(ds2+'/'+str(labels[i]))\n",
        "\n",
        "  n = len(os.listdir(ds2+'/'+str(labels[i])))+1\n",
        "  \n",
        "  im = Image.fromarray(pixels)\n",
        "  im.save(ds2+'/'+str(labels[i])+'/'+str(n)+'.png')\n",
        "\n",
        "  \n",
        "  \n",
        "\n",
        "#plt.imshow(imagearray[4], cmap=plt.cm.binary)"
      ],
      "execution_count": null,
      "outputs": [
        {
          "output_type": "stream",
          "text": [
            "(28, 28)\n"
          ],
          "name": "stdout"
        }
      ]
    },
    {
      "cell_type": "code",
      "metadata": {
        "id": "Zh0_ADeP8pMs"
      },
      "source": [
        "# Hyperparameters for exp 1\n",
        "\n",
        "batch_size = 20\n",
        "num_iters = 20000\n",
        "input_dim = 28*28 # num_features = 784\n",
        "num_hidden = 200 # num of hidden nodes\n",
        "output_dim = 10\n",
        "\n",
        "learning_rate = 0.01  # More power so we can learn faster! previously it was 0.001\n",
        "\n",
        "# Device\n",
        "device = torch.device(\"cuda:0\" if torch.cuda.is_available() else \"cpu\")"
      ],
      "execution_count": null,
      "outputs": []
    },
    {
      "cell_type": "code",
      "metadata": {
        "id": "A3D0MhCD_xzj"
      },
      "source": [
        "!rm -r '/content/Dataset_2/train/MNIST'"
      ],
      "execution_count": null,
      "outputs": []
    },
    {
      "cell_type": "code",
      "metadata": {
        "id": "KK5CEPda-LAH"
      },
      "source": [
        "'''\n",
        "LOADING DATASET\n",
        "'''\n",
        "transform = transforms.Compose([\n",
        "                                transforms.Grayscale(),                                 \n",
        "                                transforms.ToTensor() \n",
        "                                ])\n",
        " \n",
        "train_dataset = dsets.ImageFolder(root='/content/Dataset_2/train',transform= transform )\n",
        "test_dataset = dsets.ImageFolder(root='/content/Dataset_2/test',transform= transform )\n",
        "\n",
        "\n",
        "'''\n",
        "MAKING DATASET ITERABLE\n",
        "'''\n",
        "num_epochs = num_iters / (len(train_dataset) / batch_size)\n",
        "num_epochs = int(num_epochs)\n",
        "\n",
        "train_loader = torch.utils.data.DataLoader(dataset=train_dataset, \n",
        "                                           batch_size=batch_size, \n",
        "                                           shuffle=True)   # It's better to shuffle the whole training dataset! \n",
        "\n",
        "test_loader = torch.utils.data.DataLoader(dataset=test_dataset, \n",
        "                                          batch_size=batch_size, \n",
        "                                          shuffle=False)  "
      ],
      "execution_count": null,
      "outputs": []
    },
    {
      "cell_type": "code",
      "metadata": {
        "colab": {
          "base_uri": "https://localhost:8080/"
        },
        "id": "VQGVhnAY81Wr",
        "outputId": "d33bc381-b910-4cee-bcd6-aaf4b0d74d42"
      },
      "source": [
        "print(len(train_dataset))\n",
        "print(len(test_dataset))\n",
        "# One Image Size\n",
        "print(train_dataset[0][0].size())\n",
        "print(train_dataset[0][0].numpy().shape)\n",
        "# First Image Label\n",
        "print(train_dataset[0][1])\n"
      ],
      "execution_count": null,
      "outputs": [
        {
          "output_type": "stream",
          "text": [
            "60000\n",
            "10000\n",
            "torch.Size([1, 28, 28])\n",
            "(1, 28, 28)\n",
            "0\n"
          ],
          "name": "stdout"
        }
      ]
    },
    {
      "cell_type": "code",
      "metadata": {
        "id": "tGFNud4m-Qli"
      },
      "source": [
        "model = DeepNeuralNetworkModel(input_size = input_dim,\n",
        "                               num_classes = output_dim,\n",
        "                               num_hidden = num_hidden)\n",
        "# To enable GPU\n",
        "model.to(device)\n",
        "\n",
        "# INSTANTIATE LOSS & OPTIMIZER CLASS\n",
        "criterion = nn.CrossEntropyLoss()\n",
        "optimizer = torch.optim.SGD(model.parameters(), lr=learning_rate)\n",
        "\n",
        "iter = 0\n",
        "loss_list2 = []\n",
        "accuracy_list2 = []\n",
        "for epoch in range(num_epochs):\n",
        "    for i, (images, labels) in enumerate(train_loader):\n",
        "\n",
        "        images = images.view(-1, 28*28).to(device)\n",
        "        labels = labels.to(device)\n",
        "\n",
        "        # Clear gradients w.r.t. parameters\n",
        "        optimizer.zero_grad()\n",
        "\n",
        "        # Forward pass to get output/logits\n",
        "        outputs = model(images) \n",
        "\n",
        "        # Calculate Loss: softmax --> cross entropy loss\n",
        "        loss = criterion(outputs, labels)\n",
        "       \n",
        "\n",
        "        # Getting gradients w.r.t. parameters\n",
        "        loss.backward()\n",
        "\n",
        "        # Updating parameters\n",
        "        optimizer.step()\n",
        "\n",
        "        iter += 1\n",
        "\n",
        "        if iter % 500 == 0:\n",
        "            # Calculate Accuracy         \n",
        "            correct = 0\n",
        "            total = 0\n",
        "            \n",
        "            # Iterate through test dataset\n",
        "            for images, labels in test_loader:\n",
        "               \n",
        "                images = images.view(-1, 28*28).to(device)\n",
        "\n",
        "                # Forward pass only to get logits/output\n",
        "                outputs = model(images)\n",
        "\n",
        "                # Get predictions from the maximum value\n",
        "                _, predicted = torch.max(outputs, 1)\n",
        "\n",
        "                # Total number of labels\n",
        "                total += labels.size(0)\n",
        "                \n",
        "\n",
        "                # Total correct predictions\n",
        "                if torch.cuda.is_available():\n",
        "                    correct += (predicted.cpu() == labels.cpu()).sum() \n",
        "                else:\n",
        "                    correct += (predicted == labels).sum()\n",
        "\n",
        "            accuracy = 100 * correct.item() / total\n",
        "            loss_list2.append(loss.item())\n",
        "            accuracy_list2.append(accuracy)\n",
        "\n",
        "\n",
        "            # Print Loss\n",
        "            print('Iteration: {}. Loss: {}. Accuracy: {}'.format(iter, loss.item(), accuracy))"
      ],
      "execution_count": null,
      "outputs": []
    },
    {
      "cell_type": "code",
      "metadata": {
        "id": "8RlrsJFRAS03"
      },
      "source": [
        "import matplotlib.pyplot as plt\n",
        "itr = [(loss_list2.index(i)+1)*500 for i in loss_list2]\n",
        "\n",
        "plt.plot(itr,loss_list2)\n",
        "plt.title('Iteration vs Loss')\n",
        "plt.xlabel('Iterations')\n",
        "plt.ylabel('Loss')\n",
        "plt.legend('Loss Curve',loc='best')\n",
        "plt.show()"
      ],
      "execution_count": null,
      "outputs": []
    },
    {
      "cell_type": "code",
      "metadata": {
        "id": "Oc62YWUuLVl4"
      },
      "source": [
        "# Hyperparameters for exp 2\n",
        "\n",
        "batch_size = 100\n",
        "num_iters = 50000\n",
        "input_dim = 28*28 # num_features = 784\n",
        "num_hidden = 100 # num of hidden nodes\n",
        "output_dim = 10\n",
        "\n",
        "learning_rate = 0.01  # More power so we can learn faster! previously it was 0.001\n",
        "\n",
        "# Device\n",
        "device = torch.device(\"cuda:0\" if torch.cuda.is_available() else \"cpu\")\n",
        "\n",
        "'''\n",
        "MAKING DATASET ITERABLE\n",
        "'''\n",
        "num_epochs = num_iters / (len(train_dataset) / batch_size)\n",
        "num_epochs = int(num_epochs)\n",
        "\n",
        "train_loader = torch.utils.data.DataLoader(dataset=train_dataset, \n",
        "                                           batch_size=batch_size, \n",
        "                                           shuffle=True)   # It's better to shuffle the whole training dataset! \n",
        "\n",
        "test_loader = torch.utils.data.DataLoader(dataset=test_dataset, \n",
        "                                          batch_size=batch_size, \n",
        "                                          shuffle=False)  "
      ],
      "execution_count": null,
      "outputs": []
    },
    {
      "cell_type": "code",
      "metadata": {
        "id": "os8ILVdsK9I8"
      },
      "source": [
        "model = DeepNeuralNetworkModel2(input_size = input_dim,\n",
        "                               num_classes = output_dim,\n",
        "                               num_hidden = num_hidden)\n",
        "# To enable GPU\n",
        "model.to(device)\n",
        "\n",
        "# INSTANTIATE LOSS & OPTIMIZER CLASS\n",
        "criterion = nn.CrossEntropyLoss()\n",
        "optimizer = torch.optim.SGD(model.parameters(), lr=learning_rate)\n",
        "\n",
        "iter = 0\n",
        "loss_list2_2 = []\n",
        "accuracy_list2_2 = []\n",
        "for epoch in range(num_epochs):\n",
        "    for i, (images, labels) in enumerate(train_loader):\n",
        "\n",
        "        images = images.view(-1, 28*28).to(device)\n",
        "        labels = labels.to(device)\n",
        "\n",
        "        # Clear gradients w.r.t. parameters\n",
        "        optimizer.zero_grad()\n",
        "\n",
        "        # Forward pass to get output/logits\n",
        "        outputs = model(images) \n",
        "\n",
        "        # Calculate Loss: softmax --> cross entropy loss\n",
        "        loss = criterion(outputs, labels)\n",
        "        \n",
        "\n",
        "        # Getting gradients w.r.t. parameters\n",
        "        loss.backward()\n",
        "\n",
        "        # Updating parameters\n",
        "        optimizer.step()\n",
        "\n",
        "        iter += 1\n",
        "\n",
        "        if iter % 500 == 0:\n",
        "            # Calculate Accuracy         \n",
        "            correct = 0\n",
        "            total = 0\n",
        "            # Iterate through test dataset\n",
        "            for images, labels in test_loader:\n",
        "               \n",
        "                images = images.view(-1, 28*28).to(device)\n",
        "\n",
        "                # Forward pass only to get logits/output\n",
        "                outputs = model(images)\n",
        "\n",
        "                # Get predictions from the maximum value\n",
        "                _, predicted = torch.max(outputs, 1)\n",
        "\n",
        "                # Total number of labels\n",
        "                total += labels.size(0)\n",
        "\n",
        "\n",
        "                # Total correct predictions\n",
        "                if torch.cuda.is_available():\n",
        "                    correct += (predicted.cpu() == labels.cpu()).sum() \n",
        "                else:\n",
        "                    correct += (predicted == labels).sum()\n",
        "\n",
        "            accuracy = 100 * correct.item() / total\n",
        "            loss_list2_2.append(loss.item())\n",
        "            accuracy_list2_2.append(accuracy)\n",
        "\n",
        "\n",
        "            # Print Loss\n",
        "            print('Iteration: {}. Loss: {}. Accuracy: {}'.format(iter, loss.item(), accuracy))"
      ],
      "execution_count": null,
      "outputs": []
    },
    {
      "cell_type": "code",
      "metadata": {
        "id": "lNYkXSQHMHD-"
      },
      "source": [
        "import matplotlib.pyplot as plt\n",
        "itr = [(loss_list2_2.index(i)+1)*500 for i in loss_list2_2]\n",
        "\n",
        "plt.plot(itr,loss_list2_2)\n",
        "plt.title('Iteration vs Loss')\n",
        "plt.xlabel('Iterations')\n",
        "plt.ylabel('Loss')\n",
        "plt.legend('Loss Curve',loc='best')\n",
        "plt.show()"
      ],
      "execution_count": null,
      "outputs": []
    },
    {
      "cell_type": "markdown",
      "metadata": {
        "id": "8pqElYkRf2ad"
      },
      "source": [
        "# **Visualization of Comparison**"
      ]
    },
    {
      "cell_type": "code",
      "metadata": {
        "id": "SdMRoTltf8CW"
      },
      "source": [
        "m1_exp1_path='/content/drive/MyDrive/Soft_Computing/Assignment2/model1_exp1.txt'\n",
        "m2_exp1_path='/content/drive/MyDrive/Soft_Computing/Assignment2/model2_exp1.txt'\n",
        "m2_e2_extra='/content/drive/MyDrive/Soft_Computing/Assignment2/model2_exp1_part2.txt'\n",
        "m1_exp2_path='/content/drive/MyDrive/Soft_Computing/Assignment2/model1_exp2.txt'\n",
        "m2_exp2_path='/content/drive/MyDrive/Soft_Computing/Assignment2/model2_exp2.txt'\n"
      ],
      "execution_count": null,
      "outputs": []
    },
    {
      "cell_type": "code",
      "metadata": {
        "id": "MU-cK8m5f9Vn"
      },
      "source": [
        "with open(m1_exp1_path) as f:\n",
        "    lines = f.read().splitlines()\n",
        "    m1_e1_loss =[float(x) for x in lines[0][1:-1].split(\", \")]\n",
        "    m1_e1_acc = [float(x) for x in lines[1][1:-1].split(\", \")]\n",
        "    print(m1_e1_acc)\n"
      ],
      "execution_count": null,
      "outputs": []
    },
    {
      "cell_type": "code",
      "metadata": {
        "id": "7DxMlEJkgBH3"
      },
      "source": [
        "with open(m2_exp1_path) as f:\n",
        "    lines = f.read().splitlines()\n",
        "    m2_e1_loss =[float(x) for x in lines[0][1:-1].split(\", \")]\n",
        "    m2_e1_acc = [float(x) for x in lines[1][1:-1].split(\", \")]\n",
        "    print(m2_e1_acc)\n",
        "\n",
        "with open(m2_e2_extra) as f:\n",
        "    lines = f.read().splitlines()\n",
        "    tmp_l =[float(x) for x in lines[0][1:-1].split(\", \")]\n",
        "    tmp_acc = [float(x) for x in lines[1][1:-1].split(\", \")]\n",
        "    print(tmp_l)\n",
        "\n",
        "m2_e1_loss =[*m2_e1_loss,*tmp_l]\n",
        "m2_e1_acc = [*m2_e1_acc,*tmp_acc]\n",
        "\n",
        "m2_e1_acc\n",
        "\n",
        "        "
      ],
      "execution_count": null,
      "outputs": []
    },
    {
      "cell_type": "code",
      "metadata": {
        "id": "SVFD09-bgE38"
      },
      "source": [
        "with open(m1_exp2_path) as f:\n",
        "    lines = f.read().splitlines()\n",
        "    m1_e2_loss =[float(x) for x in lines[0][1:-1].split(\", \")]\n",
        "    m1_e2_acc = [float(x) for x in lines[1][1:-1].split(\", \")]\n",
        "    print(m1_e2_acc)\n",
        "\n",
        "\n",
        "    "
      ],
      "execution_count": null,
      "outputs": []
    },
    {
      "cell_type": "code",
      "metadata": {
        "id": "CKZAnNXfgLOj"
      },
      "source": [
        "with open(m2_exp2_path) as f:\n",
        "    lines = f.read().splitlines()\n",
        "    m2_e2_loss =[float(x) for x in lines[0][1:-1].split(\", \")]\n",
        "    m2_e2_acc = [float(x) for x in lines[1][1:-1].split(\", \")]\n",
        "    print(m2_e2_acc)\n",
        "\n",
        "\n",
        "    "
      ],
      "execution_count": null,
      "outputs": []
    },
    {
      "cell_type": "code",
      "metadata": {
        "id": "gbXsam3KgNsg"
      },
      "source": [
        "import matplotlib.pyplot as plt\n",
        "itr = [(m1_e1_loss.index(i)+1)*500 for i in m1_e1_loss]\n",
        "\n",
        "plt.plot(itr,m1_e1_loss,label = \"Dataset 1\")\n",
        "\n",
        "itr = [(m1_e2_loss.index(i)+1)*500 for i in m1_e2_loss]\n",
        "\n",
        "plt.plot(itr,m1_e2_loss,label = \"Dataset 2\")\n",
        "\n",
        "plt.title('Iteration vs Loss')\n",
        "plt.xlabel('Iterations')\n",
        "plt.ylabel('Loss')\n",
        "plt.title('Loss comparison between two datasets(Model 1) ')\n",
        "# show a legend on the plot\n",
        "plt.legend()\n",
        "\n",
        "plt.show()\n",
        "\n"
      ],
      "execution_count": null,
      "outputs": []
    },
    {
      "cell_type": "code",
      "metadata": {
        "id": "b6RTR2VwgPh7"
      },
      "source": [
        "import matplotlib.pyplot as plt\n",
        "itr = [(m1_e1_acc.index(i)+1)*500 for i in m1_e1_acc]\n",
        "\n",
        "plt.plot(itr,m1_e1_acc,label = \"Dataset 1\")\n",
        "\n",
        "itr = [(m1_e2_acc.index(i)+1)*500 for i in m1_e2_acc]\n",
        "\n",
        "plt.plot(itr,m1_e2_acc,label = \"Dataset 2\")\n",
        "\n",
        "plt.title('Iteration vs Loss')\n",
        "plt.xlabel('Iterations')\n",
        "plt.ylabel('Loss')\n",
        "plt.title('Accuracy comparison between two datasets(Model 1) ')\n",
        "# show a legend on the plot\n",
        "plt.legend()\n",
        "\n",
        "plt.show()\n",
        "\n"
      ],
      "execution_count": null,
      "outputs": []
    },
    {
      "cell_type": "code",
      "metadata": {
        "id": "yrbJkLM9gSnK"
      },
      "source": [
        "import matplotlib.pyplot as plt\n",
        "itr = [(m2_e1_loss.index(i)+1)*500 for i in m2_e1_loss]\n",
        "\n",
        "plt.plot(itr,m2_e1_loss,label = \"Dataset 1\")\n",
        "\n",
        "itr = [(m2_e2_loss.index(i)+1)*500 for i in m2_e2_loss]\n",
        "\n",
        "plt.plot(itr,m2_e2_loss,label = \"Dataset 2\")\n",
        "\n",
        "plt.title('Iteration vs Loss')\n",
        "plt.xlabel('Iterations')\n",
        "plt.ylabel('Loss')\n",
        "plt.title('Loss comparison between two datasets(Model 2) ')\n",
        "# show a legend on the plot\n",
        "plt.legend()\n",
        "\n",
        "plt.show()\n",
        "\n"
      ],
      "execution_count": null,
      "outputs": []
    },
    {
      "cell_type": "code",
      "metadata": {
        "id": "LiiHwzc7gVY_"
      },
      "source": [
        "import matplotlib.pyplot as plt\n",
        "itr = [(m2_e1_acc.index(i)+1)*500 for i in m2_e1_acc]\n",
        "\n",
        "plt.plot(itr,m2_e1_acc,label = \"Dataset 1\")\n",
        "\n",
        "itr = [(m2_e2_acc.index(i)+1)*500 for i in m2_e2_acc]\n",
        "\n",
        "plt.plot(itr,m2_e2_acc,label = \"Dataset 2\")\n",
        "\n",
        "plt.title('Iteration vs Loss')\n",
        "plt.xlabel('Iterations')\n",
        "plt.ylabel('Loss')\n",
        "plt.title('Accuracy comparison between two datasets(Model 2) ')\n",
        "# show a legend on the plot\n",
        "plt.legend()\n",
        "\n",
        "plt.show()\n",
        "\n"
      ],
      "execution_count": null,
      "outputs": []
    }
  ]
}